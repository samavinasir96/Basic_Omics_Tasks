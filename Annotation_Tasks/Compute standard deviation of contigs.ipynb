{
  "cells": [
    {
      "cell_type": "code",
      "execution_count": null,
      "metadata": {},
      "outputs": [],
      "source": [
        "!pip install Bio\n",
        "from Bio import SeqIO\n",
        "import numpy as np"
      ]
    },
    {
      "cell_type": "code",
      "execution_count": null,
      "metadata": {},
      "outputs": [],
      "source": [
        "# Load the FASTA file of the assembly\n",
        "records = SeqIO.parse(\"assembly.fasta\", \"fasta\")"
      ]
    },
    {
      "cell_type": "code",
      "execution_count": null,
      "metadata": {
        "id": "jLucSQGRyZ5W"
      },
      "outputs": [],
      "source": [
        "# Extract the lengths of all contigs\n",
        "contig_lengths = [len(record.seq) for record in records]\n",
        "\n",
        "# Calculate the mean of contig lengths\n",
        "mean_length = np.mean(contig_lengths)\n",
        "\n",
        "# Calculate the deviations from the mean\n",
        "deviations = [length - mean_length for length in contig_lengths]\n",
        "\n",
        "# Calculate the sum of squared deviations\n",
        "sum_squared_deviations = np.sum(np.square(deviations))\n",
        "\n",
        "# Calculate the variance\n",
        "variance = sum_squared_deviations / (len(contig_lengths) - 1)\n",
        "\n",
        "# Calculate the standard deviation\n",
        "standard_deviation = np.sqrt(variance)\n",
        "\n",
        "print(\"Standard deviation of contig lengths:\", standard_deviation)"
      ]
    }
  ],
  "metadata": {
    "colab": {
      "provenance": []
    },
    "kernelspec": {
      "display_name": "Python 3",
      "name": "python3"
    },
    "language_info": {
      "name": "python"
    }
  },
  "nbformat": 4,
  "nbformat_minor": 0
}
