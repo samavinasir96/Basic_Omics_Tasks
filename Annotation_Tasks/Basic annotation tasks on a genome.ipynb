{
  "cells": [
    {
      "cell_type": "code",
      "execution_count": null,
      "metadata": {},
      "outputs": [],
      "source": [
        "from Bio import SeqIO\n",
        "from Bio.SeqFeature import SeqFeature, FeatureLocation\n",
        "from Bio.Alphabet import generic_dna"
      ]
    },
    {
      "cell_type": "code",
      "execution_count": null,
      "metadata": {},
      "outputs": [],
      "source": [
        "# Load the genome sequence\n",
        "genome_file = \"genome.fa\"  # Replace \"genome.fa\" with your genome fasta file path\n",
        "genome = SeqIO.read(genome_file, \"fasta\", alphabet=generic_dna)"
      ]
    },
    {
      "cell_type": "code",
      "execution_count": null,
      "metadata": {
        "id": "LZjLgRxtzzOz"
      },
      "outputs": [],
      "source": [
        "\n",
        "# Define features\n",
        "features = [\n",
        "    {\"start\": 100, \"end\": 200, \"strand\": 1, \"type\": \"gene\", \"id\": \"gene1\", \"name\": \"Gene 1\"},\n",
        "    {\"start\": 300, \"end\": 400, \"strand\": -1, \"type\": \"gene\", \"id\": \"gene2\", \"name\": \"Gene 2\"},\n",
        "    {\"start\": 500, \"end\": 550, \"strand\": 1, \"type\": \"CDS\", \"id\": \"cds1\", \"name\": \"CDS 1\", \"parent\": \"gene1\"},\n",
        "    {\"start\": 600, \"end\": 650, \"strand\": -1, \"type\": \"CDS\", \"id\": \"cds2\", \"name\": \"CDS 2\", \"parent\": \"gene2\"}\n",
        "]\n",
        "\n",
        "for f in features:\n",
        "    location = FeatureLocation(f[\"start\"], f[\"end\"], strand=f[\"strand\"])\n",
        "    feature = SeqFeature(location, type=f[\"type\"])\n",
        "    feature.qualifiers[\"ID\"] = f[\"id\"]\n",
        "    feature.qualifiers[\"Name\"] = f[\"name\"]\n",
        "    if \"parent\" in f:\n",
        "        feature.qualifiers[\"Parent\"] = f[\"parent\"]\n",
        "    genome.features.append(feature)\n",
        "\n",
        "# Write the annotated genome to a file\n",
        "output_file = \"annotated_genome.gbk\"\n",
        "SeqIO.write(genome, output_file, \"genbank\")"
      ]
    }
  ],
  "metadata": {
    "colab": {
      "provenance": []
    },
    "kernelspec": {
      "display_name": "Python 3",
      "name": "python3"
    },
    "language_info": {
      "name": "python"
    }
  },
  "nbformat": 4,
  "nbformat_minor": 0
}
