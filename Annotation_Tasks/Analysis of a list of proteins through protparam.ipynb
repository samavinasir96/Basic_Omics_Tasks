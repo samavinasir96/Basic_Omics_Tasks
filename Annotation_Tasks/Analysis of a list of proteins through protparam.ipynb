{
  "cells": [
    {
      "cell_type": "code",
      "execution_count": null,
      "metadata": {},
      "outputs": [],
      "source": [
        "from Bio.SeqUtils.ProtParam import ProteinAnalysis"
      ]
    },
    {
      "cell_type": "code",
      "execution_count": null,
      "metadata": {
        "id": "49hN7TEL03M7"
      },
      "outputs": [],
      "source": [
        "# Open input file and read protein sequences\n",
        "with open(\"input_proteins.txt\", \"r\") as infile: # Replace \"input_proteins.txt\" with your protein fasta file path\n",
        "    protein_seqs = [line.strip() for line in infile]\n",
        "\n",
        "for protein_seq in protein_seqs:\n",
        "    protein_analysis = ProteinAnalysis(protein_seq)\n",
        "\n",
        "    # Compute various parameters using ProteinAnalysis methods\n",
        "    length = protein_analysis.length\n",
        "    molecular_weight = protein_analysis.molecular_weight() # molecular weight\n",
        "    charge = protein_analysis.charge_at_pH(7.0) # charge\n",
        "    isoelectric_point = protein_analysis.isoelectric_point() # isoelectric point\n",
        "    gravy = protein_analysis.gravy() # Hydropathy GRAVY\n",
        "    aromaticity = protein_analysis.aromaticity() # aromaticity\n",
        "\n",
        "    # Print results for each protein\n",
        "    print(f\"Protein sequence: {protein_seq}\")\n",
        "    print(f\"Length: {length}\")\n",
        "    print(f\"Molecular weight: {molecular_weight:.2f}\")\n",
        "    print(f\"Charge at pH 7.0: {charge:.2f}\")\n",
        "    print(f\"Isoelectric point: {isoelectric_point:.2f}\")\n",
        "    print(f\"GRAVY: {gravy:.2f}\")\n",
        "    print(f\"Aromaticity: {aromaticity:.2f}\")\n",
        "    print()"
      ]
    }
  ],
  "metadata": {
    "colab": {
      "provenance": []
    },
    "kernelspec": {
      "display_name": "Python 3",
      "name": "python3"
    },
    "language_info": {
      "name": "python"
    }
  },
  "nbformat": 4,
  "nbformat_minor": 0
}
