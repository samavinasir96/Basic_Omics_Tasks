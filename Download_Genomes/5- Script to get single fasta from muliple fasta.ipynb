{
 "cells": [
  {
   "cell_type": "code",
   "execution_count": 11,
   "metadata": {},
   "outputs": [],
   "source": [
    "\n",
    "import os\n",
    "from Bio import SeqIO"
   ]
  },
  {
   "cell_type": "code",
   "execution_count": null,
   "metadata": {},
   "outputs": [
    {
     "name": "stdout",
     "output_type": "stream",
     "text": [
      "FASTA files merged successfully!\n"
     ]
    }
   ],
   "source": [
    "# Specify the input and output file paths\n",
    "input_folder = \"genomes\"  # Replace with your input folder path\n",
    "output_file = \"single_file_HP_complete.fasta\"  # Replace with your desired output file path\n",
    "\n",
    "# Create an empty list to store the sequences\n",
    "all_sequences = []\n",
    "\n",
    "# Iterate through all FASTA files in the input folder\n",
    "for filename in os.listdir(input_folder):\n",
    "    if filename.endswith(\".fna\"):\n",
    "        filepath = os.path.join(input_folder, filename)\n",
    "        for record in SeqIO.parse(filepath, \"fasta\"):\n",
    "            all_sequences.append(record)\n",
    "\n",
    "# Write all sequences to the output file\n",
    "SeqIO.write(all_sequences, output_file, \"fasta\")\n",
    "\n",
    "print(\"FASTA files merged successfully!\")\n"
   ]
  }
 ],
 "metadata": {
  "kernelspec": {
   "display_name": "Python 3",
   "language": "python",
   "name": "python3"
  },
  "language_info": {
   "codemirror_mode": {
    "name": "ipython",
    "version": 3
   },
   "file_extension": ".py",
   "mimetype": "text/x-python",
   "name": "python",
   "nbconvert_exporter": "python",
   "pygments_lexer": "ipython3",
   "version": "3.10.8"
  }
 },
 "nbformat": 4,
 "nbformat_minor": 2
}
