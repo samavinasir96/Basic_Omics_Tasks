{
 "cells": [
  {
   "cell_type": "code",
   "execution_count": 1,
   "metadata": {},
   "outputs": [],
   "source": [
    "import os\n",
    "import csv"
   ]
  },
  {
   "cell_type": "markdown",
   "metadata": {},
   "source": [
    "**Rename faa files**\n",
    "you have to rename each faa file with organism and strian name of each genome.\n",
    "e.g. protein.faa --> Helicobacter pylori NCTC13345.faa\n",
    "\n",
    "**Requirements:** You'll need a csv, containing the required name and assembly accession numbers of the genomes."
   ]
  },
  {
   "cell_type": "code",
   "execution_count": 2,
   "metadata": {},
   "outputs": [],
   "source": [
    "# Define the path to the folder containing the extracted genomes\n",
    "genomes_folder = 'E:\\ASAB\\VacSol-AI\\ESKAPE\\Real_time_server\\download_genomes\\data/faa'\n",
    "\n",
    "# Define the path to your CSV file\n",
    "csv_file = 'E:\\ASAB\\VacSol-AI\\ESKAPE\\Real_time_server\\download_genomes/faa.csv'\n",
    "\n",
    "# Create a dictionary to store the mapping of accession numbers to organism names\n",
    "accession_to_organism = {}"
   ]
  },
  {
   "cell_type": "code",
   "execution_count": 3,
   "metadata": {},
   "outputs": [
    {
     "name": "stdout",
     "output_type": "stream",
     "text": [
      "Renamed E:\\ASAB\\VacSol-AI\\ESKAPE\\Real_time_server\\download_genomes\\data/faa\\WP_286446778.1.faa to E:\\ASAB\\VacSol-AI\\ESKAPE\\Real_time_server\\download_genomes\\data/faa\\Helicobacter pylori FDAARGOS_298.faa\n",
      "Renamed E:\\ASAB\\VacSol-AI\\ESKAPE\\Real_time_server\\download_genomes\\data/faa\\WP_286465478.1.faa to E:\\ASAB\\VacSol-AI\\ESKAPE\\Real_time_server\\download_genomes\\data/faa\\Helicobacter pylori MT5135.faa\n",
      "Renamed E:\\ASAB\\VacSol-AI\\ESKAPE\\Real_time_server\\download_genomes\\data/faa\\WP_301404643.1.faa to E:\\ASAB\\VacSol-AI\\ESKAPE\\Real_time_server\\download_genomes\\data/faa\\Helicobacter pylori CHC155.faa\n"
     ]
    }
   ],
   "source": [
    "# Read the CSV file and populate the dictionary\n",
    "with open(csv_file, mode='r') as csvfile:\n",
    "    csvreader = csv.reader(csvfile)\n",
    "    next(csvreader)  # Skip the header row if it exists\n",
    "    for row in csvreader:\n",
    "        accession_number, organism_name = row[1], row[0]\n",
    "        accession_to_organism[accession_number] = organism_name\n",
    "\n",
    "# Iterate through the \".fna\" files in the genomes folder and rename them\n",
    "for filename in os.listdir(genomes_folder):\n",
    "    if filename.endswith('.faa'):\n",
    "        fna_file_path = os.path.join(genomes_folder, filename)\n",
    "        accession_number = os.path.splitext(filename)[0]  # Extract accession number from the filename\n",
    "        organism_name = accession_to_organism.get(accession_number, None)\n",
    "\n",
    "        if organism_name:\n",
    "            new_fna_name = organism_name + '.faa'\n",
    "            new_fna_path = os.path.join(genomes_folder, new_fna_name)\n",
    "\n",
    "            # Rename the \".faa\" file\n",
    "            os.rename(fna_file_path, new_fna_path)\n",
    "            print(f'Renamed {fna_file_path} to {new_fna_path}')\n",
    "        else:\n",
    "            print(f'Organism name not found for accession number {accession_number}')"
   ]
  }
 ],
 "metadata": {
  "kernelspec": {
   "display_name": "Python 3",
   "language": "python",
   "name": "python3"
  },
  "language_info": {
   "codemirror_mode": {
    "name": "ipython",
    "version": 3
   },
   "file_extension": ".py",
   "mimetype": "text/x-python",
   "name": "python",
   "nbconvert_exporter": "python",
   "pygments_lexer": "ipython3",
   "version": "3.10.8"
  },
  "orig_nbformat": 4
 },
 "nbformat": 4,
 "nbformat_minor": 2
}
