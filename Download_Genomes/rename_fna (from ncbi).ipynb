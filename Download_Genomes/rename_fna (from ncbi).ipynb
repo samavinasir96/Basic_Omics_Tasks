{
 "cells": [
  {
   "cell_type": "code",
   "execution_count": 1,
   "metadata": {},
   "outputs": [],
   "source": [
    "import os\n",
    "import csv"
   ]
  },
  {
   "cell_type": "markdown",
   "metadata": {},
   "source": [
    "**Rename fna files**\n",
    "You downloaded multiple genomes from ncbi genomes site, the genomes comes in a zip file. When you extracted them, there were multiple folders. the name of each folder was the accession number of assembly of the genome. In each folder was the fasta file with extension of \".fna\"\n",
    "Now you have to rename each fna file with organism and strian name of each genome.\n",
    "e.g. GCF_000148855.1_ASM14885v1_genomic.fna --> Helicobacter pylori NCTC13345.fna\n",
    "\n",
    "**Requirements:** You'll need a csv, containing the required name and assembly accession numbers of the genomes."
   ]
  },
  {
   "cell_type": "code",
   "execution_count": 8,
   "metadata": {},
   "outputs": [],
   "source": [
    "# Define the path to the folder containing the extracted genomes\n",
    "genomes_folder = 'E:\\ASAB\\VacSol-AI\\ESKAPE\\Real_time_server\\download_genomes\\data'\n",
    "\n",
    "# Define the path to your CSV file\n",
    "csv_file = 'E:\\ASAB\\VacSol-AI\\ESKAPE\\Real_time_server\\download_genomes/fna.csv'\n",
    "\n",
    "# Create a dictionary to store the mapping of accession numbers to organism names\n",
    "accession_to_organism = {}"
   ]
  },
  {
   "cell_type": "code",
   "execution_count": 9,
   "metadata": {},
   "outputs": [
    {
     "name": "stdout",
     "output_type": "stream",
     "text": [
      "Renamed E:\\ASAB\\VacSol-AI\\ESKAPE\\Real_time_server\\download_genomes\\data\\GCA_021729565.1\\Helicobacter pylori Hk840.fna to E:\\ASAB\\VacSol-AI\\ESKAPE\\Real_time_server\\download_genomes\\data\\GCA_021729565.1\\Helicobacter pylori Hk840.fna\n",
      "Renamed E:\\ASAB\\VacSol-AI\\ESKAPE\\Real_time_server\\download_genomes\\data\\GCA_021729625.1\\Helicobacter pylori CO1768.fna to E:\\ASAB\\VacSol-AI\\ESKAPE\\Real_time_server\\download_genomes\\data\\GCA_021729625.1\\Helicobacter pylori CO1768.fna\n",
      "Renamed E:\\ASAB\\VacSol-AI\\ESKAPE\\Real_time_server\\download_genomes\\data\\GCA_021729645.1\\Helicobacter pylori CO1766.fna to E:\\ASAB\\VacSol-AI\\ESKAPE\\Real_time_server\\download_genomes\\data\\GCA_021729645.1\\Helicobacter pylori CO1766.fna\n",
      "Renamed E:\\ASAB\\VacSol-AI\\ESKAPE\\Real_time_server\\download_genomes\\data\\GCA_021729665.1\\Helicobacter pylori CO1681.fna to E:\\ASAB\\VacSol-AI\\ESKAPE\\Real_time_server\\download_genomes\\data\\GCA_021729665.1\\Helicobacter pylori CO1681.fna\n",
      "Renamed E:\\ASAB\\VacSol-AI\\ESKAPE\\Real_time_server\\download_genomes\\data\\GCA_021729705.1\\Helicobacter pylori AL05.fna to E:\\ASAB\\VacSol-AI\\ESKAPE\\Real_time_server\\download_genomes\\data\\GCA_021729705.1\\Helicobacter pylori AL05.fna\n",
      "Renamed E:\\ASAB\\VacSol-AI\\ESKAPE\\Real_time_server\\download_genomes\\data\\GCA_021729745.1\\Helicobacter pylori AL03.fna to E:\\ASAB\\VacSol-AI\\ESKAPE\\Real_time_server\\download_genomes\\data\\GCA_021729745.1\\Helicobacter pylori AL03.fna\n",
      "Renamed E:\\ASAB\\VacSol-AI\\ESKAPE\\Real_time_server\\download_genomes\\data\\GCA_022014675.1\\Helicobacter pylori K262.fna to E:\\ASAB\\VacSol-AI\\ESKAPE\\Real_time_server\\download_genomes\\data\\GCA_022014675.1\\Helicobacter pylori K262.fna\n",
      "Renamed E:\\ASAB\\VacSol-AI\\ESKAPE\\Real_time_server\\download_genomes\\data\\GCF_000011725.1\\Helicobacter pylori 51.fna to E:\\ASAB\\VacSol-AI\\ESKAPE\\Real_time_server\\download_genomes\\data\\GCF_000011725.1\\Helicobacter pylori 51.fna\n",
      "Renamed E:\\ASAB\\VacSol-AI\\ESKAPE\\Real_time_server\\download_genomes\\data\\GCF_000013245.1\\Helicobacter pylori HPAG1.fna to E:\\ASAB\\VacSol-AI\\ESKAPE\\Real_time_server\\download_genomes\\data\\GCF_000013245.1\\Helicobacter pylori HPAG1.fna\n",
      "Renamed E:\\ASAB\\VacSol-AI\\ESKAPE\\Real_time_server\\download_genomes\\data\\GCF_000020245.1\\Helicobacter pylori Shi470.fna to E:\\ASAB\\VacSol-AI\\ESKAPE\\Real_time_server\\download_genomes\\data\\GCF_000020245.1\\Helicobacter pylori Shi470.fna\n",
      "Renamed E:\\ASAB\\VacSol-AI\\ESKAPE\\Real_time_server\\download_genomes\\data\\GCF_000021165.1\\Helicobacter pylori G27.fna to E:\\ASAB\\VacSol-AI\\ESKAPE\\Real_time_server\\download_genomes\\data\\GCF_000021165.1\\Helicobacter pylori G27.fna\n",
      "Renamed E:\\ASAB\\VacSol-AI\\ESKAPE\\Real_time_server\\download_genomes\\data\\GCF_000021465.1\\Helicobacter pylori P12.fna to E:\\ASAB\\VacSol-AI\\ESKAPE\\Real_time_server\\download_genomes\\data\\GCF_000021465.1\\Helicobacter pylori P12.fna\n",
      "Renamed E:\\ASAB\\VacSol-AI\\ESKAPE\\Real_time_server\\download_genomes\\data\\GCF_000091345.1\\Helicobacter pylori B38.fna to E:\\ASAB\\VacSol-AI\\ESKAPE\\Real_time_server\\download_genomes\\data\\GCF_000091345.1\\Helicobacter pylori B38.fna\n",
      "Renamed E:\\ASAB\\VacSol-AI\\ESKAPE\\Real_time_server\\download_genomes\\data\\GCF_000093185.1\\Helicobacter pylori v225d.fna to E:\\ASAB\\VacSol-AI\\ESKAPE\\Real_time_server\\download_genomes\\data\\GCF_000093185.1\\Helicobacter pylori v225d.fna\n",
      "Renamed E:\\ASAB\\VacSol-AI\\ESKAPE\\Real_time_server\\download_genomes\\data\\GCF_000148665.1\\Helicobacter pylori 908.fna to E:\\ASAB\\VacSol-AI\\ESKAPE\\Real_time_server\\download_genomes\\data\\GCF_000148665.1\\Helicobacter pylori 908.fna\n",
      "Renamed E:\\ASAB\\VacSol-AI\\ESKAPE\\Real_time_server\\download_genomes\\data\\GCF_000148855.1\\Helicobacter pylori SJM180.fna to E:\\ASAB\\VacSol-AI\\ESKAPE\\Real_time_server\\download_genomes\\data\\GCF_000148855.1\\Helicobacter pylori SJM180.fna\n",
      "Renamed E:\\ASAB\\VacSol-AI\\ESKAPE\\Real_time_server\\download_genomes\\data\\GCF_000148875.1\\Helicobacter pylori PeCan4.fna to E:\\ASAB\\VacSol-AI\\ESKAPE\\Real_time_server\\download_genomes\\data\\GCF_000148875.1\\Helicobacter pylori PeCan4.fna\n",
      "Renamed E:\\ASAB\\VacSol-AI\\ESKAPE\\Real_time_server\\download_genomes\\data\\GCF_000148895.1\\Helicobacter pylori Cuz20.fna to E:\\ASAB\\VacSol-AI\\ESKAPE\\Real_time_server\\download_genomes\\data\\GCF_000148895.1\\Helicobacter pylori Cuz20.fna\n",
      "Renamed E:\\ASAB\\VacSol-AI\\ESKAPE\\Real_time_server\\download_genomes\\data\\GCF_000148915.1\\Helicobacter pylori Sat464.fna to E:\\ASAB\\VacSol-AI\\ESKAPE\\Real_time_server\\download_genomes\\data\\GCF_000148915.1\\Helicobacter pylori Sat464.fna\n",
      "Renamed E:\\ASAB\\VacSol-AI\\ESKAPE\\Real_time_server\\download_genomes\\data\\GCF_000178935.2\\Helicobacter pylori 35A.fna to E:\\ASAB\\VacSol-AI\\ESKAPE\\Real_time_server\\download_genomes\\data\\GCF_000178935.2\\Helicobacter pylori 35A.fna\n",
      "Renamed E:\\ASAB\\VacSol-AI\\ESKAPE\\Real_time_server\\download_genomes\\data\\GCF_000185185.1\\Helicobacter pylori India7.fna to E:\\ASAB\\VacSol-AI\\ESKAPE\\Real_time_server\\download_genomes\\data\\GCF_000185185.1\\Helicobacter pylori India7.fna\n",
      "Organism name not found for accession number GCF_000185205.1\n",
      "Renamed E:\\ASAB\\VacSol-AI\\ESKAPE\\Real_time_server\\download_genomes\\data\\GCF_000185225.1\\GCF_000185225.1_ASM18522v1_genomic.fna to E:\\ASAB\\VacSol-AI\\ESKAPE\\Real_time_server\\download_genomes\\data\\GCF_000185225.1\\Helicobacter pylori Lithuania75.fna\n",
      "Renamed E:\\ASAB\\VacSol-AI\\ESKAPE\\Real_time_server\\download_genomes\\data\\GCF_000185245.1\\GCF_000185245.1_ASM18524v1_genomic.fna to E:\\ASAB\\VacSol-AI\\ESKAPE\\Real_time_server\\download_genomes\\data\\GCF_000185245.1\\Helicobacter pylori SouthAfrica7.fna\n",
      "Renamed E:\\ASAB\\VacSol-AI\\ESKAPE\\Real_time_server\\download_genomes\\data\\GCF_000192315.1\\GCF_000192315.1_ASM19231v1_genomic.fna to E:\\ASAB\\VacSol-AI\\ESKAPE\\Real_time_server\\download_genomes\\data\\GCF_000192315.1\\Helicobacter pylori 2017.fna\n",
      "Renamed E:\\ASAB\\VacSol-AI\\ESKAPE\\Real_time_server\\download_genomes\\data\\GCF_000213135.1\\GCF_000213135.1_ASM21313v1_genomic.fna to E:\\ASAB\\VacSol-AI\\ESKAPE\\Real_time_server\\download_genomes\\data\\GCF_000213135.1\\Helicobacter pylori 83.fna\n",
      "Renamed E:\\ASAB\\VacSol-AI\\ESKAPE\\Real_time_server\\download_genomes\\data\\GCF_000224555.1\\GCF_000224555.1_ASM22455v1_genomic.fna to E:\\ASAB\\VacSol-AI\\ESKAPE\\Real_time_server\\download_genomes\\data\\GCF_000224555.1\\Helicobacter pylori Puno135.fna\n",
      "Renamed E:\\ASAB\\VacSol-AI\\ESKAPE\\Real_time_server\\download_genomes\\data\\GCF_000224575.1\\GCF_000224575.1_ASM22457v1_genomic.fna to E:\\ASAB\\VacSol-AI\\ESKAPE\\Real_time_server\\download_genomes\\data\\GCF_000224575.1\\Helicobacter pylori Santal49.fna\n",
      "Renamed E:\\ASAB\\VacSol-AI\\ESKAPE\\Real_time_server\\download_genomes\\data\\GCF_000259235.1\\GCF_000259235.1_ASM25923v1_genomic.fna to E:\\ASAB\\VacSol-AI\\ESKAPE\\Real_time_server\\download_genomes\\data\\GCF_000259235.1\\Helicobacter pylori HUP-B14.fna\n",
      "Renamed E:\\ASAB\\VacSol-AI\\ESKAPE\\Real_time_server\\download_genomes\\data\\GCF_000262655.1\\GCF_000262655.1_ASM26265v1_genomic.fna to E:\\ASAB\\VacSol-AI\\ESKAPE\\Real_time_server\\download_genomes\\data\\GCF_000262655.1\\Helicobacter pylori XZ274.fna\n",
      "Renamed E:\\ASAB\\VacSol-AI\\ESKAPE\\Real_time_server\\download_genomes\\data\\GCF_000270025.1\\GCF_000270025.1_ASM27002v1_genomic.fna to E:\\ASAB\\VacSol-AI\\ESKAPE\\Real_time_server\\download_genomes\\data\\GCF_000270025.1\\Helicobacter pylori F30.fna\n",
      "Renamed E:\\ASAB\\VacSol-AI\\ESKAPE\\Real_time_server\\download_genomes\\data\\GCF_000270045.1\\GCF_000270045.1_ASM27004v1_genomic.fna to E:\\ASAB\\VacSol-AI\\ESKAPE\\Real_time_server\\download_genomes\\data\\GCF_000270045.1\\Helicobacter pylori F32.fna\n",
      "Renamed E:\\ASAB\\VacSol-AI\\ESKAPE\\Real_time_server\\download_genomes\\data\\GCF_000277365.1\\GCF_000277365.1_ASM27736v1_genomic.fna to E:\\ASAB\\VacSol-AI\\ESKAPE\\Real_time_server\\download_genomes\\data\\GCF_000277365.1\\Helicobacter pylori Shi417.fna\n",
      "Renamed E:\\ASAB\\VacSol-AI\\ESKAPE\\Real_time_server\\download_genomes\\data\\GCF_000277385.1\\GCF_000277385.1_ASM27738v1_genomic.fna to E:\\ASAB\\VacSol-AI\\ESKAPE\\Real_time_server\\download_genomes\\data\\GCF_000277385.1\\Helicobacter pylori Shi169.fna\n",
      "Renamed E:\\ASAB\\VacSol-AI\\ESKAPE\\Real_time_server\\download_genomes\\data\\GCF_000277425.1\\GCF_000277425.1_ASM27742v1_genomic.fna to E:\\ASAB\\VacSol-AI\\ESKAPE\\Real_time_server\\download_genomes\\data\\GCF_000277425.1\\Helicobacter pylori PeCan18.fna\n",
      "Renamed E:\\ASAB\\VacSol-AI\\ESKAPE\\Real_time_server\\download_genomes\\data\\GCF_000307815.1\\GCF_000307815.1_ASM30781v1_genomic.fna to E:\\ASAB\\VacSol-AI\\ESKAPE\\Real_time_server\\download_genomes\\data\\GCF_000307815.1\\Helicobacter pylori Rif1.fna\n",
      "Renamed E:\\ASAB\\VacSol-AI\\ESKAPE\\Real_time_server\\download_genomes\\data\\GCF_000317875.1\\GCF_000317875.1_ASM31787v1_genomic.fna to E:\\ASAB\\VacSol-AI\\ESKAPE\\Real_time_server\\download_genomes\\data\\GCF_000317875.1\\Helicobacter pylori Aklavik86.fna\n",
      "Renamed E:\\ASAB\\VacSol-AI\\ESKAPE\\Real_time_server\\download_genomes\\data\\GCF_000392535.3\\GCF_000392535.3_ASM39253v3_genomic.fna to E:\\ASAB\\VacSol-AI\\ESKAPE\\Real_time_server\\download_genomes\\data\\GCF_000392535.3\\Helicobacter pylori UM066.fna\n",
      "Renamed E:\\ASAB\\VacSol-AI\\ESKAPE\\Real_time_server\\download_genomes\\data\\GCF_000685625.1\\GCF_000685625.1_ASM68562v1_genomic.fna to E:\\ASAB\\VacSol-AI\\ESKAPE\\Real_time_server\\download_genomes\\data\\GCF_000685625.1\\Helicobacter pylori J166.fna\n",
      "Renamed E:\\ASAB\\VacSol-AI\\ESKAPE\\Real_time_server\\download_genomes\\data\\GCF_001549715.1\\Helicobacter pylori strain ML1.fna to E:\\ASAB\\VacSol-AI\\ESKAPE\\Real_time_server\\download_genomes\\data\\GCF_001549715.1\\Helicobacter pylori ML1.fna\n",
      "Renamed E:\\ASAB\\VacSol-AI\\ESKAPE\\Real_time_server\\download_genomes\\data\\GCF_001653375.1\\Helicobacter pylori strain L7.fna to E:\\ASAB\\VacSol-AI\\ESKAPE\\Real_time_server\\download_genomes\\data\\GCF_001653375.1\\Helicobacter pylori L7.fna\n",
      "Renamed E:\\ASAB\\VacSol-AI\\ESKAPE\\Real_time_server\\download_genomes\\data\\GCF_001653415.1\\Helicobacter pylori strain CC33C.fna to E:\\ASAB\\VacSol-AI\\ESKAPE\\Real_time_server\\download_genomes\\data\\GCF_001653415.1\\Helicobacter pylori CC33C.fna\n",
      "Renamed E:\\ASAB\\VacSol-AI\\ESKAPE\\Real_time_server\\download_genomes\\data\\GCF_001653435.1\\Helicobacter pylori strain ausabrJ05.fna to E:\\ASAB\\VacSol-AI\\ESKAPE\\Real_time_server\\download_genomes\\data\\GCF_001653435.1\\Helicobacter pylori ausabrJ05.fna\n",
      "Renamed E:\\ASAB\\VacSol-AI\\ESKAPE\\Real_time_server\\download_genomes\\data\\GCF_001653475.1\\Helicobacter pylori strain PNG84A.fna to E:\\ASAB\\VacSol-AI\\ESKAPE\\Real_time_server\\download_genomes\\data\\GCF_001653475.1\\Helicobacter pylori PNG84A.fna\n",
      "Renamed E:\\ASAB\\VacSol-AI\\ESKAPE\\Real_time_server\\download_genomes\\data\\GCF_002005525.1\\Helicobacter pylori SS1 strain SS1.fna to E:\\ASAB\\VacSol-AI\\ESKAPE\\Real_time_server\\download_genomes\\data\\GCF_002005525.1\\Helicobacter pylori SS1.fna\n",
      "Renamed E:\\ASAB\\VacSol-AI\\ESKAPE\\Real_time_server\\download_genomes\\data\\GCF_002357435.1\\GCF_002357435.1_ASM235743v1_genomic.fna to E:\\ASAB\\VacSol-AI\\ESKAPE\\Real_time_server\\download_genomes\\data\\GCF_002357435.1\\Helicobacter pylori F13.fna\n",
      "Renamed E:\\ASAB\\VacSol-AI\\ESKAPE\\Real_time_server\\download_genomes\\data\\GCF_002357535.1\\GCF_002357535.1_ASM235753v1_genomic.fna to E:\\ASAB\\VacSol-AI\\ESKAPE\\Real_time_server\\download_genomes\\data\\GCF_002357535.1\\Helicobacter pylori F210.fna\n",
      "Renamed E:\\ASAB\\VacSol-AI\\ESKAPE\\Real_time_server\\download_genomes\\data\\GCF_002357655.1\\GCF_002357655.1_ASM235765v1_genomic.fna to E:\\ASAB\\VacSol-AI\\ESKAPE\\Real_time_server\\download_genomes\\data\\GCF_002357655.1\\Helicobacter pylori F67.fna\n",
      "Renamed E:\\ASAB\\VacSol-AI\\ESKAPE\\Real_time_server\\download_genomes\\data\\GCF_002357675.1\\GCF_002357675.1_ASM235767v1_genomic.fna to E:\\ASAB\\VacSol-AI\\ESKAPE\\Real_time_server\\download_genomes\\data\\GCF_002357675.1\\Helicobacter pylori F70.fna\n",
      "Renamed E:\\ASAB\\VacSol-AI\\ESKAPE\\Real_time_server\\download_genomes\\data\\GCF_002951975.1\\GCF_002951975.1_ASM295197v1_genomic.fna to E:\\ASAB\\VacSol-AI\\ESKAPE\\Real_time_server\\download_genomes\\data\\GCF_002951975.1\\Helicobacter pylori B128_1.fna\n",
      "Renamed E:\\ASAB\\VacSol-AI\\ESKAPE\\Real_time_server\\download_genomes\\data\\GCF_002983705.1\\GCF_002983705.1_ASM298370v1_genomic.fna to E:\\ASAB\\VacSol-AI\\ESKAPE\\Real_time_server\\download_genomes\\data\\GCF_002983705.1\\Helicobacter pylori FDAARGOS_300.fna\n",
      "Renamed E:\\ASAB\\VacSol-AI\\ESKAPE\\Real_time_server\\download_genomes\\data\\GCF_006337265.1\\GCF_006337265.1_ASM633726v1_genomic.fna to E:\\ASAB\\VacSol-AI\\ESKAPE\\Real_time_server\\download_genomes\\data\\GCF_006337265.1\\Helicobacter pylori 479-A2-EK4.fna\n",
      "Renamed E:\\ASAB\\VacSol-AI\\ESKAPE\\Real_time_server\\download_genomes\\data\\GCF_006337305.1\\GCF_006337305.1_ASM633730v1_genomic.fna to E:\\ASAB\\VacSol-AI\\ESKAPE\\Real_time_server\\download_genomes\\data\\GCF_006337305.1\\Helicobacter pylori 381-F-EK9.fna\n",
      "Renamed E:\\ASAB\\VacSol-AI\\ESKAPE\\Real_time_server\\download_genomes\\data\\GCF_006337425.1\\GCF_006337425.1_ASM633742v1_genomic.fna to E:\\ASAB\\VacSol-AI\\ESKAPE\\Real_time_server\\download_genomes\\data\\GCF_006337425.1\\Helicobacter pylori 476-A-EK5.fna\n",
      "Renamed E:\\ASAB\\VacSol-AI\\ESKAPE\\Real_time_server\\download_genomes\\data\\GCF_007844035.1\\GCF_007844035.1_ASM784403v1_genomic.fna to E:\\ASAB\\VacSol-AI\\ESKAPE\\Real_time_server\\download_genomes\\data\\GCF_007844035.1\\Helicobacter pylori B136A.fna\n",
      "Renamed E:\\ASAB\\VacSol-AI\\ESKAPE\\Real_time_server\\download_genomes\\data\\GCF_008027235.1\\GCF_008027235.1_ASM802723v1_genomic.fna to E:\\ASAB\\VacSol-AI\\ESKAPE\\Real_time_server\\download_genomes\\data\\GCF_008027235.1\\Helicobacter pylori C-Mx-2010-5.fna\n",
      "Renamed E:\\ASAB\\VacSol-AI\\ESKAPE\\Real_time_server\\download_genomes\\data\\GCF_010917155.1\\GCF_010917155.1_ASM1091715v1_genomic.fna to E:\\ASAB\\VacSol-AI\\ESKAPE\\Real_time_server\\download_genomes\\data\\GCF_010917155.1\\Helicobacter pylori GCT 27.fna\n",
      "Renamed E:\\ASAB\\VacSol-AI\\ESKAPE\\Real_time_server\\download_genomes\\data\\GCF_011456275.1\\GCF_011456275.1_ASM1145627v1_genomic.fna to E:\\ASAB\\VacSol-AI\\ESKAPE\\Real_time_server\\download_genomes\\data\\GCF_011456275.1\\Helicobacter pylori H1.fna\n",
      "Renamed E:\\ASAB\\VacSol-AI\\ESKAPE\\Real_time_server\\download_genomes\\data\\GCF_016748085.1\\GCF_016748085.1_ASM1674808v1_genomic.fna to E:\\ASAB\\VacSol-AI\\ESKAPE\\Real_time_server\\download_genomes\\data\\GCF_016748085.1\\Helicobacter pylori ASHA-002.fna\n",
      "Renamed E:\\ASAB\\VacSol-AI\\ESKAPE\\Real_time_server\\download_genomes\\data\\GCF_017821535.1\\GCF_017821535.1_ASM1782153v1_genomic.fna to E:\\ASAB\\VacSol-AI\\ESKAPE\\Real_time_server\\download_genomes\\data\\GCF_017821535.1\\Helicobacter pylori MT5135.fna\n",
      "Renamed E:\\ASAB\\VacSol-AI\\ESKAPE\\Real_time_server\\download_genomes\\data\\GCF_017821615.1\\GCF_017821615.1_ASM1782161v1_genomic.fna to E:\\ASAB\\VacSol-AI\\ESKAPE\\Real_time_server\\download_genomes\\data\\GCF_017821615.1\\Helicobacter pylori MT5119.fna\n",
      "Renamed E:\\ASAB\\VacSol-AI\\ESKAPE\\Real_time_server\\download_genomes\\data\\GCF_017821635.1\\GCF_017821635.1_ASM1782163v1_genomic.fna to E:\\ASAB\\VacSol-AI\\ESKAPE\\Real_time_server\\download_genomes\\data\\GCF_017821635.1\\Helicobacter pylori MT5124.fna\n",
      "Renamed E:\\ASAB\\VacSol-AI\\ESKAPE\\Real_time_server\\download_genomes\\data\\GCF_020735525.1\\GCF_020735525.1_ASM2073552v1_genomic.fna to E:\\ASAB\\VacSol-AI\\ESKAPE\\Real_time_server\\download_genomes\\data\\GCF_020735525.1\\Helicobacter pylori FDAARGOS_1601.fna\n",
      "Renamed E:\\ASAB\\VacSol-AI\\ESKAPE\\Real_time_server\\download_genomes\\data\\GCF_021729485.1\\GCF_021729485.1_ASM2172948v1_genomic.fna to E:\\ASAB\\VacSol-AI\\ESKAPE\\Real_time_server\\download_genomes\\data\\GCF_021729485.1\\Helicobacter pylori AL02.fna\n",
      "Renamed E:\\ASAB\\VacSol-AI\\ESKAPE\\Real_time_server\\download_genomes\\data\\GCF_021729725.1\\GCF_021729725.1_ASM2172972v1_genomic.fna to E:\\ASAB\\VacSol-AI\\ESKAPE\\Real_time_server\\download_genomes\\data\\GCF_021729725.1\\Helicobacter pylori AL04.fna\n",
      "Renamed E:\\ASAB\\VacSol-AI\\ESKAPE\\Real_time_server\\download_genomes\\data\\GCF_022921775.1\\GCF_022921775.1_ASM2292177v1_genomic.fna to E:\\ASAB\\VacSol-AI\\ESKAPE\\Real_time_server\\download_genomes\\data\\GCF_022921775.1\\Helicobacter pylori Hpfe107.fna\n",
      "Renamed E:\\ASAB\\VacSol-AI\\ESKAPE\\Real_time_server\\download_genomes\\data\\GCF_022924275.1\\GCF_022924275.1_ASM2292427v1_genomic.fna to E:\\ASAB\\VacSol-AI\\ESKAPE\\Real_time_server\\download_genomes\\data\\GCF_022924275.1\\Helicobacter pylori Hpfe052.fna\n",
      "Renamed E:\\ASAB\\VacSol-AI\\ESKAPE\\Real_time_server\\download_genomes\\data\\GCF_022924875.1\\GCF_022924875.1_ASM2292487v1_genomic.fna to E:\\ASAB\\VacSol-AI\\ESKAPE\\Real_time_server\\download_genomes\\data\\GCF_022924875.1\\Helicobacter pylori Hpfe024.fna\n",
      "Renamed E:\\ASAB\\VacSol-AI\\ESKAPE\\Real_time_server\\download_genomes\\data\\GCF_022925255.1\\GCF_022925255.1_ASM2292525v1_genomic.fna to E:\\ASAB\\VacSol-AI\\ESKAPE\\Real_time_server\\download_genomes\\data\\GCF_022925255.1\\Helicobacter pylori Hpfe010.fna\n",
      "Renamed E:\\ASAB\\VacSol-AI\\ESKAPE\\Real_time_server\\download_genomes\\data\\GCF_900478295.1\\GCF_900478295.1_35377_D02_genomic.fna to E:\\ASAB\\VacSol-AI\\ESKAPE\\Real_time_server\\download_genomes\\data\\GCF_900478295.1\\Helicobacter pylori NCTC 11637.fna\n",
      "Renamed E:\\ASAB\\VacSol-AI\\ESKAPE\\Real_time_server\\download_genomes\\data\\GCF_902381665.1\\GCF_902381665.1_UHGG_MGYG-HGUT-01357_genomic.fna to E:\\ASAB\\VacSol-AI\\ESKAPE\\Real_time_server\\download_genomes\\data\\GCF_902381665.1\\Helicobacter pylori MGYG-HGUT-01357.fna\n"
     ]
    }
   ],
   "source": [
    "# Read the CSV file and populate the dictionary\n",
    "with open(csv_file, mode='r') as csvfile:\n",
    "    csvreader = csv.reader(csvfile)\n",
    "    next(csvreader)  # Skip the header row if it exists\n",
    "    for row in csvreader:\n",
    "        accession_number, organism_name = row[1], row[0]\n",
    "        accession_to_organism[accession_number] = organism_name\n",
    "\n",
    "# Iterate through the folders and rename the \".fna\" files\n",
    "for folder_name in os.listdir(genomes_folder):\n",
    "    folder_path = os.path.join(genomes_folder, folder_name)\n",
    "    if os.path.isdir(folder_path):\n",
    "        accession_number = folder_name\n",
    "        organism_name = accession_to_organism.get(accession_number, None)\n",
    "        \n",
    "        if organism_name:\n",
    "            for filename in os.listdir(folder_path):\n",
    "                if filename.endswith('.fna'):\n",
    "                    fna_file_path = os.path.join(folder_path, filename)\n",
    "                    new_fna_name = organism_name + '.fna'\n",
    "                    new_fna_path = os.path.join(folder_path, new_fna_name)\n",
    "                    \n",
    "                    # Rename the \".fna\" file\n",
    "                    os.rename(fna_file_path, new_fna_path)\n",
    "                    print(f'Renamed {fna_file_path} to {new_fna_path}')\n",
    "        else:\n",
    "            print(f'Organism name not found for accession number {accession_number}')"
   ]
  }
 ],
 "metadata": {
  "kernelspec": {
   "display_name": "Python 3",
   "language": "python",
   "name": "python3"
  },
  "language_info": {
   "codemirror_mode": {
    "name": "ipython",
    "version": 3
   },
   "file_extension": ".py",
   "mimetype": "text/x-python",
   "name": "python",
   "nbconvert_exporter": "python",
   "pygments_lexer": "ipython3",
   "version": "3.10.8"
  },
  "orig_nbformat": 4
 },
 "nbformat": 4,
 "nbformat_minor": 2
}
