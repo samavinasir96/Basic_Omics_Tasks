{
  "cells": [
    {
      "cell_type": "code",
      "execution_count": 1,
      "metadata": {
        "id": "UHqeu7uMI_32"
      },
      "outputs": [],
      "source": [
        "#!pip install Bio\n",
        "from Bio import Entrez"
      ]
    },
    {
      "cell_type": "code",
      "execution_count": null,
      "metadata": {
        "id": "3zxULIX0JGSZ"
      },
      "outputs": [],
      "source": [
        "# Set email and API key for Entrez\n",
        "Entrez.email = \"email\"\n",
        "Entrez.api_key = \"api_key\""
      ]
    },
    {
      "cell_type": "code",
      "execution_count": 3,
      "metadata": {
        "id": "V1UjUpq8JIa5"
      },
      "outputs": [],
      "source": [
        "# Define database\n",
        "search_db = \"assembly\""
      ]
    },
    {
      "cell_type": "code",
      "execution_count": null,
      "metadata": {
        "id": "6v8OqPYyJ2N_"
      },
      "outputs": [],
      "source": [
        "# Read the input file with accession numbers\n",
        "with open(\"accession.txt\", \"r\") as infile:\n",
        "    accession_list = [line.strip() for line in infile]"
      ]
    },
    {
      "cell_type": "code",
      "execution_count": null,
      "metadata": {
        "id": "zfQzBFNDJ33y"
      },
      "outputs": [],
      "source": [
        "# Download the FAA files from NCBI\n",
        "for accession in accession_list:\n",
        "    handle = Entrez.efetch(db=search_db, id=accession, rettype=\"fasta\", retmode=\"text\")\n",
        "    filename = f\"{accession}.faa\"\n",
        "    with open(filename, \"w\") as outfile:\n",
        "        outfile.write(handle.read())\n",
        "    print(f\"Downloaded {filename}\")\n",
        "\n",
        "print(\"All downloads complete\")"
      ]
    },
    {
      "cell_type": "code",
      "execution_count": null,
      "metadata": {},
      "outputs": [],
      "source": [
        "output_filename = \"all_sequences.faa\" # Set desired output name\n",
        "with open(output_filename, \"w\") as outfile:\n",
        "    for accession in accession_list:\n",
        "        handle = Entrez.efetch(db=search_db, id=accession, rettype=\"fasta\", retmode=\"text\")\n",
        "        sequence = handle.read()\n",
        "        \n",
        "        outfile.write(sequence)\n",
        "        \n",
        "        print(f\"Downloaded {accession}\")\n",
        "\n",
        "print(\"All downloads complete. Sequences are saved in\", output_filename)"
      ]
    }
  ],
  "metadata": {
    "colab": {
      "provenance": []
    },
    "kernelspec": {
      "display_name": "Python 3",
      "name": "python3"
    },
    "language_info": {
      "codemirror_mode": {
        "name": "ipython",
        "version": 3
      },
      "file_extension": ".py",
      "mimetype": "text/x-python",
      "name": "python",
      "nbconvert_exporter": "python",
      "pygments_lexer": "ipython3",
      "version": "3.10.8"
    }
  },
  "nbformat": 4,
  "nbformat_minor": 0
}
