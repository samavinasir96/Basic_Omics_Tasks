{
  "cells": [
    {
      "cell_type": "code",
      "execution_count": null,
      "metadata": {},
      "outputs": [],
      "source": [
        "#!pip install Bio\n",
        "from Bio import SeqIO"
      ]
    },
    {
      "cell_type": "code",
      "execution_count": null,
      "metadata": {
        "id": "w-MvvlPMxJi7"
      },
      "outputs": [],
      "source": [
        "# Read in the multi-genome FASTA file\n",
        "input_file = \"multi_genome.fasta\"\n",
        "records = SeqIO.parse(input_file, \"fasta\")\n",
        "\n",
        "# Loop through the records and write each one to a separate file\n",
        "for record in records:\n",
        "    output_file = f\"{record.id}.fasta\"\n",
        "    SeqIO.write(record, output_file, \"fasta\")\n"
      ]
    }
  ],
  "metadata": {
    "colab": {
      "provenance": []
    },
    "kernelspec": {
      "display_name": "Python 3",
      "name": "python3"
    },
    "language_info": {
      "name": "python"
    }
  },
  "nbformat": 4,
  "nbformat_minor": 0
}
