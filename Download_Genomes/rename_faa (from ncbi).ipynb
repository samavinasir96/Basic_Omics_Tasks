{
 "cells": [
  {
   "cell_type": "code",
   "execution_count": 1,
   "metadata": {},
   "outputs": [],
   "source": [
    "import os\n",
    "import csv"
   ]
  },
  {
   "cell_type": "markdown",
   "metadata": {},
   "source": [
    "**Rename faa files**\n",
    "You downloaded multiple genomes from ncbi genomes site, the genomes comes in a zip file. When you extracted them, there were multiple folders. the name of each folder was the accession number of assembly of the genome. In each folder was the fasta file with name of \"protein.faa\"\n",
    "Now you have to rename each faa file with organism and strian name of each genome.\n",
    "e.g. protein.faa --> Helicobacter pylori NCTC13345.faa\n",
    "\n",
    "**Requirements:** You'll need a csv, containing the required name and assembly accession numbers of the genomes."
   ]
  },
  {
   "cell_type": "code",
   "execution_count": 7,
   "metadata": {},
   "outputs": [],
   "source": [
    "# Define the path to the folder containing the extracted genomes\n",
    "genomes_folder = 'E:\\ASAB\\VacSol-AI\\ESKAPE\\Real_time_server\\download_genomes\\data'\n",
    "\n",
    "# Define the path to your CSV file\n",
    "csv_file = 'E:\\ASAB\\VacSol-AI\\ESKAPE\\Real_time_server\\download_genomes\\Book1.csv'\n",
    "\n",
    "# Create a dictionary to store the mapping of accession numbers to organism names\n",
    "accession_to_organism = {}"
   ]
  },
  {
   "cell_type": "code",
   "execution_count": 8,
   "metadata": {},
   "outputs": [
    {
     "name": "stdout",
     "output_type": "stream",
     "text": [
      "Renamed E:\\ASAB\\VacSol-AI\\ESKAPE\\Real_time_server\\download_genomes\\data1\\GCA_003050665.1\\GCA_003050665.1_ASM305066v1_genomic.fna to E:\\ASAB\\VacSol-AI\\ESKAPE\\Real_time_server\\download_genomes\\data1\\GCA_003050665.1\\Helicobacter pylori FDAARGOS_298.fna\n",
      "Renamed E:\\ASAB\\VacSol-AI\\ESKAPE\\Real_time_server\\download_genomes\\data1\\GCA_017821535.1\\GCA_017821535.1_ASM1782153v1_genomic.fna to E:\\ASAB\\VacSol-AI\\ESKAPE\\Real_time_server\\download_genomes\\data1\\GCA_017821535.1\\Helicobacter pylori MT5135.fna\n",
      "Renamed E:\\ASAB\\VacSol-AI\\ESKAPE\\Real_time_server\\download_genomes\\data1\\GCA_025998455.1\\GCA_025998455.1_ASM2599845v1_genomic.fna to E:\\ASAB\\VacSol-AI\\ESKAPE\\Real_time_server\\download_genomes\\data1\\GCA_025998455.1\\Helicobacter pylori CHC155.fna\n"
     ]
    }
   ],
   "source": [
    "# Read the CSV file and populate the dictionary\n",
    "with open(csv_file, mode='r') as csvfile:\n",
    "    csvreader = csv.reader(csvfile)\n",
    "    next(csvreader)  # Skip the header row if it exists\n",
    "    for row in csvreader:\n",
    "        accession_number, organism_name = row[1], row[0]\n",
    "        accession_to_organism[accession_number] = organism_name\n",
    "\n",
    "# Iterate through the folders and rename the \"protein.faa\" files\n",
    "for folder_name in os.listdir(genomes_folder):\n",
    "    folder_path = os.path.join(genomes_folder, folder_name)\n",
    "    if os.path.isdir(folder_path):\n",
    "        protein_faa_path = os.path.join(folder_path, 'protein.faa')\n",
    "        if os.path.isfile(protein_faa_path):\n",
    "            accession_number = folder_name\n",
    "            organism_name = accession_to_organism.get(accession_number, None)\n",
    "            \n",
    "            if organism_name:\n",
    "                new_protein_faa_name = organism_name + '.faa'\n",
    "                new_protein_faa_path = os.path.join(folder_path, new_protein_faa_name)\n",
    "                \n",
    "                # Rename the file\n",
    "                os.rename(protein_faa_path, new_protein_faa_path)\n",
    "                print(f'Renamed {protein_faa_path} to {new_protein_faa_path}')\n",
    "            else:\n",
    "                print(f'Organism name not found for accession number {accession_number}')\n",
    "        else:\n",
    "            print(f'No \"protein.faa\" file found in folder {folder_name}. Skipping...')"
   ]
  }
 ],
 "metadata": {
  "kernelspec": {
   "display_name": "Python 3",
   "language": "python",
   "name": "python3"
  },
  "language_info": {
   "codemirror_mode": {
    "name": "ipython",
    "version": 3
   },
   "file_extension": ".py",
   "mimetype": "text/x-python",
   "name": "python",
   "nbconvert_exporter": "python",
   "pygments_lexer": "ipython3",
   "version": "3.10.8"
  },
  "orig_nbformat": 4
 },
 "nbformat": 4,
 "nbformat_minor": 2
}
