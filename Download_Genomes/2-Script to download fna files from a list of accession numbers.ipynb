{
  "cells": [
    {
      "cell_type": "code",
      "execution_count": null,
      "metadata": {
        "id": "UHqeu7uMI_32"
      },
      "outputs": [],
      "source": [
        "#!pip install Bio\n",
        "from Bio import Entrez"
      ]
    },
    {
      "cell_type": "code",
      "execution_count": null,
      "metadata": {
        "id": "3zxULIX0JGSZ"
      },
      "outputs": [],
      "source": [
        "# Set email and API key for Entrez\n",
        "Entrez.email = \"email\"\n",
        "Entrez.api_key = \"api_key\""
      ]
    },
    {
      "cell_type": "code",
      "execution_count": null,
      "metadata": {
        "id": "V1UjUpq8JIa5"
      },
      "outputs": [],
      "source": [
        "# Define database\n",
        "search_db = \"nucleotide\""
      ]
    },
    {
      "cell_type": "code",
      "execution_count": null,
      "metadata": {
        "id": "xcYnRfRFJKZI"
      },
      "outputs": [],
      "source": [
        "# Read the input file with accession numbers\n",
        "with open(\"ids.txt\", \"r\") as infile:\n",
        "    accession_list = [line.strip() for line in infile]"
      ]
    },
    {
      "cell_type": "code",
      "execution_count": null,
      "metadata": {
        "id": "Ue3znAltJMYT"
      },
      "outputs": [],
      "source": [
        "# Download the FNA files from NCBI\n",
        "for accession in accession_list:\n",
        "    handle = Entrez.efetch(db=search_db, id=accession, rettype=\"fasta\", retmode=\"text\")\n",
        "    filename = f\"{accession}.fna\"\n",
        "    with open(filename, \"w\") as outfile:\n",
        "        outfile.write(handle.read())\n",
        "    print(f\"Downloaded {filename}\")\n",
        "\n",
        "print(\"All downloads complete\")"
      ]
    }
  ],
  "metadata": {
    "colab": {
      "provenance": []
    },
    "kernelspec": {
      "display_name": "Python 3",
      "name": "python3"
    },
    "language_info": {
      "codemirror_mode": {
        "name": "ipython",
        "version": 3
      },
      "file_extension": ".py",
      "mimetype": "text/x-python",
      "name": "python",
      "nbconvert_exporter": "python",
      "pygments_lexer": "ipython3",
      "version": "3.10.8"
    }
  },
  "nbformat": 4,
  "nbformat_minor": 0
}
