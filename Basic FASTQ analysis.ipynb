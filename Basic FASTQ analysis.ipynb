{
 "cells": [
  {
   "cell_type": "code",
   "execution_count": null,
   "metadata": {},
   "outputs": [],
   "source": [
    "from Bio import SeqIO"
   ]
  },
  {
   "cell_type": "markdown",
   "metadata": {},
   "source": [
    "Count Reads"
   ]
  },
  {
   "cell_type": "code",
   "execution_count": null,
   "metadata": {},
   "outputs": [],
   "source": [
    "count = 0\n",
    "for rec in SeqIO.parse(\"R1.fastqsanger\", \"fastq\"):\n",
    "    count += 1\n",
    "print(\"%i reads\" % count)"
   ]
  },
  {
   "cell_type": "markdown",
   "metadata": {},
   "source": [
    "Filter Reads for a minimum PHRED quality of 20"
   ]
  },
  {
   "cell_type": "code",
   "execution_count": null,
   "metadata": {},
   "outputs": [],
   "source": [
    "good_reads = (\n",
    "    rec\n",
    "    for rec in SeqIO.parse(\"R1.fastqsanger\", \"fastq\")\n",
    "    if min(rec.letter_annotations[\"phred_quality\"]) >= 20\n",
    ")\n",
    "count = SeqIO.write(good_reads, \"good_quality.fastq\", \"fastq\")\n",
    "print(\"Saved %i reads\" % count)"
   ]
  },
  {
   "cell_type": "markdown",
   "metadata": {},
   "source": [
    "Use Pylab or Matplotlib module to plot the Phred quality scores of the Reads"
   ]
  },
  {
   "cell_type": "code",
   "execution_count": null,
   "metadata": {},
   "outputs": [],
   "source": [
    "import pylab\n",
    "\n",
    "for subfigure in [1, 2]:\n",
    "    filename = \"R%i.fastqsanger\" % subfigure\n",
    "    pylab.subplot(1, 2, subfigure)\n",
    "    for i, record in enumerate(SeqIO.parse(filename, \"fastq\")):\n",
    "        if i >= 90:\n",
    "            break  \n",
    "        pylab.plot(record.letter_annotations[\"phred_quality\"])\n",
    "    pylab.ylim(0, 45)\n",
    "    pylab.ylabel(\"PHRED quality score\")\n",
    "    pylab.xlabel(\"Position\")\n",
    "pylab.savefig(\"R.png\")\n",
    "print(\"Done\")\n"
   ]
  },
  {
   "cell_type": "markdown",
   "metadata": {},
   "source": [
    "Find Reads with Primer Sequences"
   ]
  },
  {
   "cell_type": "code",
   "execution_count": null,
   "metadata": {},
   "outputs": [],
   "source": [
    "primer_reads = (\n",
    "    rec\n",
    "    for rec in SeqIO.parse(\"R1.fastqsanger\", \"fastq\")\n",
    "    if rec.seq.startswith(\"GATGACGGTGT\")\n",
    ")\n",
    "count = SeqIO.write(primer_reads, \"with_primer.fastq\", \"fastq\")\n",
    "print(\"Saved %i reads\" % count)\n"
   ]
  },
  {
   "cell_type": "markdown",
   "metadata": {},
   "source": [
    "That should find reads from R1.fastq and save them to a new FASTQ file, with_primer.fastq."
   ]
  },
  {
   "cell_type": "markdown",
   "metadata": {},
   "source": [
    "Now How to Trim these Primers..???"
   ]
  },
  {
   "cell_type": "code",
   "execution_count": null,
   "metadata": {},
   "outputs": [],
   "source": [
    "#We are creating a funtion to trim the primers\n",
    "def trim_primers(records, primer):\n",
    "    \"\"\"Removes perfect primer sequences at start of reads.\n",
    "\n",
    "    This is a generator function, the records argument should\n",
    "    be a list or iterator returning SeqRecord objects.\n",
    "    \"\"\"\n",
    "    len_primer = len(primer)  # cache this for later\n",
    "    for record in records:\n",
    "        if record.seq.startswith(primer):\n",
    "            yield record[len_primer:]\n",
    "        else:\n",
    "            yield record"
   ]
  },
  {
   "cell_type": "code",
   "execution_count": null,
   "metadata": {},
   "outputs": [],
   "source": [
    "#Usage of the above Function\n",
    "original_reads = SeqIO.parse(\"R1.fastqsanger\", \"fastq\")\n",
    "trimmed_reads = trim_primers(original_reads, \"GATGACGGTGT\")\n",
    "count = SeqIO.write(trimmed_reads, \"trimmed.fastq\", \"fastq\")\n",
    "print(\"Saved %i reads\" % count)"
   ]
  },
  {
   "cell_type": "markdown",
   "metadata": {},
   "source": [
    "Trimming of Adapter Sequences ..!!"
   ]
  },
  {
   "cell_type": "code",
   "execution_count": null,
   "metadata": {},
   "outputs": [],
   "source": [
    "def trim_adaptors(records, adaptor):\n",
    "    \"\"\"Trims perfect adaptor sequences.\n",
    "\n",
    "    This is a generator function, the records argument should\n",
    "    be a list or iterator returning SeqRecord objects.\n",
    "    \"\"\"\n",
    "    len_adaptor = len(adaptor)  # cache this for later\n",
    "    for record in records:\n",
    "        index = record.seq.find(adaptor)\n",
    "        if index == -1:\n",
    "            # adaptor not found, so won't trim\n",
    "            yield record\n",
    "        else:\n",
    "            # trim off the adaptor\n",
    "            yield record[index + len_adaptor :]"
   ]
  },
  {
   "cell_type": "code",
   "execution_count": null,
   "metadata": {},
   "outputs": [],
   "source": [
    "original_reads = SeqIO.parse(\"R1.fastqsanger\", \"fastq\")\n",
    "trimmed_reads = trim_adaptors(original_reads, \"GATGACGGTGT\")\n",
    "count = SeqIO.write(trimmed_reads, \"trimmed_adapters.fastq\", \"fastq\")\n",
    "print(\"Saved %i reads\" % count)"
   ]
  }
 ],
 "metadata": {
  "kernelspec": {
   "display_name": "Python 3",
   "language": "python",
   "name": "python3"
  },
  "language_info": {
   "codemirror_mode": {
    "name": "ipython",
    "version": 3
   },
   "file_extension": ".py",
   "mimetype": "text/x-python",
   "name": "python",
   "nbconvert_exporter": "python",
   "pygments_lexer": "ipython3",
   "version": "3.10.8"
  }
 },
 "nbformat": 4,
 "nbformat_minor": 2
}
